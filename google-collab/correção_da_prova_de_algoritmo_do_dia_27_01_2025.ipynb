{
  "nbformat": 4,
  "nbformat_minor": 0,
  "metadata": {
    "colab": {
      "provenance": [],
      "authorship_tag": "ABX9TyOjYszQCBDluMhqtEqxEn/2",
      "include_colab_link": true
    },
    "kernelspec": {
      "name": "python3",
      "display_name": "Python 3"
    },
    "language_info": {
      "name": "python"
    }
  },
  "cells": [
    {
      "cell_type": "markdown",
      "metadata": {
        "id": "view-in-github",
        "colab_type": "text"
      },
      "source": [
        "<a href=\"https://colab.research.google.com/github/GhostPython297/Exercicios-de-ADS/blob/main/google-collab/corre%C3%A7%C3%A3o_da_prova_de_algoritmo_do_dia_27_01_2025.ipynb\" target=\"_parent\"><img src=\"https://colab.research.google.com/assets/colab-badge.svg\" alt=\"Open In Colab\"/></a>"
      ]
    },
    {
      "cell_type": "markdown",
      "source": [
        "## Notas principais\n",
        "- tipos: lista; tupla; conjunto; dicionário; string (também é lista).\n",
        "- métodos dentro do escopo podem acessar as variáveis e listas do escopo acima.\n",
        "- pode ser criado um arquivo `exemplo.in` contendo os valores que serão redirecionados a um input pela chamada do arquivo para ser executado no terminal: `python arquivo.py < exemplo.in`.\n",
        "    - os valores separados por linhas serão adicionados em cada chamada do input.\n",
        "- fatiamento de listas pode ser feito usando `lista[<começo>:<final>]`.\n",
        "    - se o valor final ficar vazio, o fatiamento irá até o final da lista\n",
        "- Python não tem hoisting, não permite criar funções depois da chamada da mesma e não tem operadores restritos separados.\n",
        "    - a leitura e execução de código é feita de cima para baixo\n",
        "    - não dá para criar uma função e chamar ela antes da sua própria declaração\n",
        "    - os operadores de comparação são equivalentes aos operadores restritos do JS\n",
        "- você pode usar `help(<nome do método>)` no console python para poder ter as definições de um método."
      ],
      "metadata": {
        "id": "Bkxu7dGP6H4-"
      }
    },
    {
      "cell_type": "code",
      "execution_count": null,
      "metadata": {
        "id": "Xdwbz2bc6DRY",
        "colab": {
          "base_uri": "https://localhost:8080/"
        },
        "collapsed": true,
        "outputId": "d02f034f-eca7-4934-c324-bc44b61f695b"
      },
      "outputs": [
        {
          "output_type": "stream",
          "name": "stdout",
          "text": [
            "1\n",
            "2\n",
            "5\n",
            "1\n",
            "2\n",
            "3\n",
            "4\n",
            "5\n",
            "6\n",
            "8\n",
            "1\n"
          ]
        }
      ],
      "source": [
        "# questão 002\n",
        "def minimo(lista):\n",
        "    m = lista[0] # 'm' recebe o primeiro item da lista\n",
        "\n",
        "    # ver qual elemento é maior\n",
        "    for elemento in lista[1:]: # fatiar a lista do segundo elemento até o útlimo\n",
        "        if elemento < m:\n",
        "            m = elemento\n",
        "\n",
        "        return m\n",
        "\n",
        "def maximo(lista):\n",
        "    m = lista[0] # 'm' recebe o primeiro item da lista\n",
        "\n",
        "    # ver qual elemento é maior\n",
        "    for elemento in lista[1:]: # fatiar a lista do segundo elemento até o útlimo\n",
        "        if elemento > m:\n",
        "            m = elemento\n",
        "\n",
        "        return m\n",
        "\n",
        "x = []\n",
        "\n",
        "for i in range(10):\n",
        "    a = int(input())\n",
        "    x.append(a)\n",
        "\n",
        "print(minimo(x))\n",
        "print(maximo(x))"
      ]
    },
    {
      "cell_type": "code",
      "source": [
        "## versão usando sort()\n",
        "x = []\n",
        "\n",
        "for i in range(10):\n",
        "    a = int(input())\n",
        "    x.append(a)\n",
        "\n",
        "x.sort() # organizar em ordem crescente\n",
        "print(x[0]) # primeiro elemento\n",
        "print(x[-1]) # último elemento"
      ],
      "metadata": {
        "id": "yFvYWYTCQwGD"
      },
      "execution_count": null,
      "outputs": []
    },
    {
      "cell_type": "code",
      "source": [
        "# questão 003\n",
        "valor = int(input())\n",
        "\n",
        "notas_de_50 = 0\n",
        "notas_de_20 = 0\n",
        "\n",
        "if valor < 50 and valor not in [20, 40]:\n",
        "    print(\"Valor indisponível.\")\n",
        "elif valor >= 50 and valor % 10 != 0:\n",
        "    print(\"Valor indisponível.\")\n",
        "else:\n",
        "    if valor <= 100:\n",
        "        if valor in [60, 80]:\n",
        "            notas_de_20 = valor // 20\n",
        "        else:\n",
        "            notas_de_50 = valor // 50\n",
        "            notas_de_20 = (valor - notas_de_50 * notas_de_50) // 20\n",
        "    else:\n",
        "        if (valor // 10) % 2 == 0:\n",
        "            notas_de_50 = 1\n",
        "        else:\n",
        "            notas_de_20 = (valor - 50) // 20\n",
        "\n",
        "print(notas_de_20, \" notas de R$50.\")\n",
        "print(notas_de_20, \" notas de R$20.\")"
      ],
      "metadata": {
        "id": "Uu-h1B2FSHtY"
      },
      "execution_count": null,
      "outputs": []
    },
    {
      "cell_type": "code",
      "source": [
        "# questão 004\n",
        "numero = int(input())\n",
        "\n",
        "for index in range(2, numero + 1, 2):\n",
        "    # método mais resumido\n",
        "    print(f\"{index}: {' '.join(map(str, range(1, index + 1 )))}\")\n",
        "\n",
        "    # método mais compreensível\n",
        "    # string = f\"{index}: \"\n",
        "    # for elemento in range(1, index + 1):\n",
        "    #     string += f\"{elemento} \"\n",
        "    # print(string)"
      ],
      "metadata": {
        "colab": {
          "base_uri": "https://localhost:8080/"
        },
        "id": "Kh1Xi4t5aZ1j",
        "outputId": "548be04b-85ce-4c6b-ce9d-bb4dc4060644"
      },
      "execution_count": null,
      "outputs": [
        {
          "output_type": "stream",
          "name": "stdout",
          "text": [
            "10\n",
            "2: 1 2\n",
            "4: 1 2 3 4\n",
            "6: 1 2 3 4 5 6\n",
            "8: 1 2 3 4 5 6 7 8\n",
            "10: 1 2 3 4 5 6 7 8 9 10\n"
          ]
        }
      ]
    },
    {
      "cell_type": "markdown",
      "source": [
        "## Palavras-chave ou Perguntas"
      ],
      "metadata": {
        "id": "0YKyr3oo6QGs"
      }
    },
    {
      "cell_type": "markdown",
      "source": [
        "## Resumo\n"
      ],
      "metadata": {
        "id": "6eo-vPTi6flb"
      }
    }
  ]
}