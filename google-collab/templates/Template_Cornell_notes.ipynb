{
  "nbformat": 4,
  "nbformat_minor": 0,
  "metadata": {
    "colab": {
      "provenance": [],
      "authorship_tag": "ABX9TyMVkNw6rK9yVDmML315VyGx",
      "include_colab_link": true
    },
    "kernelspec": {
      "name": "python3",
      "display_name": "Python 3"
    },
    "language_info": {
      "name": "python"
    }
  },
  "cells": [
    {
      "cell_type": "markdown",
      "metadata": {
        "id": "view-in-github",
        "colab_type": "text"
      },
      "source": [
        "<a href=\"https://colab.research.google.com/github/GhostPython297/Exercicios-de-ADS/blob/main/templates/Template_Cornell_notes.ipynb\" target=\"_parent\"><img src=\"https://colab.research.google.com/assets/colab-badge.svg\" alt=\"Open In Colab\"/></a>"
      ]
    },
    {
      "cell_type": "markdown",
      "source": [
        "## Notas principais\n",
        "-\n",
        "-\n"
      ],
      "metadata": {
        "id": "Bkxu7dGP6H4-"
      }
    },
    {
      "cell_type": "code",
      "execution_count": null,
      "metadata": {
        "id": "Xdwbz2bc6DRY"
      },
      "outputs": [],
      "source": []
    },
    {
      "cell_type": "markdown",
      "source": [
        "## Palavras-chave ou Perguntas\n",
        "-\n",
        "-"
      ],
      "metadata": {
        "id": "0YKyr3oo6QGs"
      }
    },
    {
      "cell_type": "markdown",
      "source": [
        "## Resumo\n",
        "-\n",
        "-\n"
      ],
      "metadata": {
        "id": "6eo-vPTi6flb"
      }
    }
  ]
}