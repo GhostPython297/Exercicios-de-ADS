{
  "nbformat": 4,
  "nbformat_minor": 0,
  "metadata": {
    "colab": {
      "provenance": [],
      "authorship_tag": "ABX9TyPpUZcLMeHCmnmPnoWWcAsj",
      "include_colab_link": true
    },
    "kernelspec": {
      "name": "python3",
      "display_name": "Python 3"
    },
    "language_info": {
      "name": "python"
    }
  },
  "cells": [
    {
      "cell_type": "markdown",
      "metadata": {
        "id": "view-in-github",
        "colab_type": "text"
      },
      "source": [
        "<a href=\"https://colab.research.google.com/github/GhostPython297/Exercicios-de-ADS/blob/main/Recursividade_03_02_2025.ipynb\" target=\"_parent\"><img src=\"https://colab.research.google.com/assets/colab-badge.svg\" alt=\"Open In Colab\"/></a>"
      ]
    },
    {
      "cell_type": "markdown",
      "source": [
        "## Notas principais\n",
        "- Função recursiva: chama a sí própria.\n",
        "    - Se não tiver uma condição de parada ela entra em loop infinito.\n",
        "- Pode ser feito um loop com recursividade ou recursividade com um loop.\n",
        "- Pense sempre primeiro na condição de parada da recursividade na hora de construir as funções.\n",
        "- As funções recursivas sempre devem receber um novo valor como parâmetro para continuar o loop.\n",
        "- Toda função recursiva empilha suas chamadas e só calcula os valores quando chega na condição final que retornará um valor fixo.\n",
        "    - Quando a recursividade termina, as chamadas empilhadas são calculadas de forma invertida terminando na chamada inicial."
      ],
      "metadata": {
        "id": "Bkxu7dGP6H4-"
      }
    },
    {
      "cell_type": "code",
      "execution_count": null,
      "metadata": {
        "id": "Xdwbz2bc6DRY",
        "colab": {
          "base_uri": "https://localhost:8080/",
          "height": 339
        },
        "collapsed": true,
        "outputId": "31ceb920-83c3-44a2-cb69-348f4a0fc716"
      },
      "outputs": [
        {
          "output_type": "error",
          "ename": "RecursionError",
          "evalue": "maximum recursion depth exceeded",
          "traceback": [
            "\u001b[0;31m---------------------------------------------------------------------------\u001b[0m",
            "\u001b[0;31mRecursionError\u001b[0m                            Traceback (most recent call last)",
            "\u001b[0;32m<ipython-input-1-c1c0b3602020>\u001b[0m in \u001b[0;36m<cell line: 0>\u001b[0;34m()\u001b[0m\n\u001b[1;32m      3\u001b[0m     \u001b[0mb\u001b[0m \u001b[0;34m+=\u001b[0m \u001b[0;36m1\u001b[0m\u001b[0;34m\u001b[0m\u001b[0;34m\u001b[0m\u001b[0m\n\u001b[1;32m      4\u001b[0m     \u001b[0;32mreturn\u001b[0m \u001b[0msoma\u001b[0m\u001b[0;34m(\u001b[0m\u001b[0ma\u001b[0m\u001b[0;34m,\u001b[0m \u001b[0mb\u001b[0m\u001b[0;34m)\u001b[0m\u001b[0;34m\u001b[0m\u001b[0;34m\u001b[0m\u001b[0m\n\u001b[0;32m----> 5\u001b[0;31m \u001b[0mprint\u001b[0m\u001b[0;34m(\u001b[0m\u001b[0msoma\u001b[0m\u001b[0;34m(\u001b[0m\u001b[0;36m1\u001b[0m\u001b[0;34m,\u001b[0m \u001b[0;36m2\u001b[0m\u001b[0;34m)\u001b[0m\u001b[0;34m)\u001b[0m\u001b[0;34m\u001b[0m\u001b[0;34m\u001b[0m\u001b[0m\n\u001b[0m",
            "\u001b[0;32m<ipython-input-1-c1c0b3602020>\u001b[0m in \u001b[0;36msoma\u001b[0;34m(a, b)\u001b[0m\n\u001b[1;32m      2\u001b[0m     \u001b[0ma\u001b[0m \u001b[0;34m+=\u001b[0m \u001b[0;36m1\u001b[0m\u001b[0;34m\u001b[0m\u001b[0;34m\u001b[0m\u001b[0m\n\u001b[1;32m      3\u001b[0m     \u001b[0mb\u001b[0m \u001b[0;34m+=\u001b[0m \u001b[0;36m1\u001b[0m\u001b[0;34m\u001b[0m\u001b[0;34m\u001b[0m\u001b[0m\n\u001b[0;32m----> 4\u001b[0;31m     \u001b[0;32mreturn\u001b[0m \u001b[0msoma\u001b[0m\u001b[0;34m(\u001b[0m\u001b[0ma\u001b[0m\u001b[0;34m,\u001b[0m \u001b[0mb\u001b[0m\u001b[0;34m)\u001b[0m\u001b[0;34m\u001b[0m\u001b[0;34m\u001b[0m\u001b[0m\n\u001b[0m\u001b[1;32m      5\u001b[0m \u001b[0mprint\u001b[0m\u001b[0;34m(\u001b[0m\u001b[0msoma\u001b[0m\u001b[0;34m(\u001b[0m\u001b[0;36m1\u001b[0m\u001b[0;34m,\u001b[0m \u001b[0;36m2\u001b[0m\u001b[0;34m)\u001b[0m\u001b[0;34m)\u001b[0m\u001b[0;34m\u001b[0m\u001b[0;34m\u001b[0m\u001b[0m\n",
            "... last 1 frames repeated, from the frame below ...\n",
            "\u001b[0;32m<ipython-input-1-c1c0b3602020>\u001b[0m in \u001b[0;36msoma\u001b[0;34m(a, b)\u001b[0m\n\u001b[1;32m      2\u001b[0m     \u001b[0ma\u001b[0m \u001b[0;34m+=\u001b[0m \u001b[0;36m1\u001b[0m\u001b[0;34m\u001b[0m\u001b[0;34m\u001b[0m\u001b[0m\n\u001b[1;32m      3\u001b[0m     \u001b[0mb\u001b[0m \u001b[0;34m+=\u001b[0m \u001b[0;36m1\u001b[0m\u001b[0;34m\u001b[0m\u001b[0;34m\u001b[0m\u001b[0m\n\u001b[0;32m----> 4\u001b[0;31m     \u001b[0;32mreturn\u001b[0m \u001b[0msoma\u001b[0m\u001b[0;34m(\u001b[0m\u001b[0ma\u001b[0m\u001b[0;34m,\u001b[0m \u001b[0mb\u001b[0m\u001b[0;34m)\u001b[0m\u001b[0;34m\u001b[0m\u001b[0;34m\u001b[0m\u001b[0m\n\u001b[0m\u001b[1;32m      5\u001b[0m \u001b[0mprint\u001b[0m\u001b[0;34m(\u001b[0m\u001b[0msoma\u001b[0m\u001b[0;34m(\u001b[0m\u001b[0;36m1\u001b[0m\u001b[0;34m,\u001b[0m \u001b[0;36m2\u001b[0m\u001b[0;34m)\u001b[0m\u001b[0;34m)\u001b[0m\u001b[0;34m\u001b[0m\u001b[0;34m\u001b[0m\u001b[0m\n",
            "\u001b[0;31mRecursionError\u001b[0m: maximum recursion depth exceeded"
          ]
        }
      ],
      "source": [
        "# isso é um loop infinito\n",
        "# funciona como um laço de repetição sem fim\n",
        "def soma(a, b):\n",
        "    a += 1\n",
        "    b += 1\n",
        "    return soma(a, b)\n",
        "print(soma(1, 2))"
      ]
    },
    {
      "cell_type": "code",
      "source": [
        "# calculando fatorial sem recursividade.\n",
        "def fatorial_sem_recursividade(n):\n",
        "    fat = 1\n",
        "\n",
        "    for i in range(1, n+1): # conta de 1 até n+1.\n",
        "        fat *= i # multiplica o valor de fat por i.\n",
        "    return fat\n",
        "\n",
        "print(fatorial_sem_recursividade(5))"
      ],
      "metadata": {
        "colab": {
          "base_uri": "https://localhost:8080/"
        },
        "collapsed": true,
        "id": "uDbQEE6zw0ru",
        "outputId": "4aaab1ce-1b06-465e-d202-7d966dac4ed3"
      },
      "execution_count": null,
      "outputs": [
        {
          "output_type": "stream",
          "name": "stdout",
          "text": [
            "120\n"
          ]
        }
      ]
    },
    {
      "cell_type": "code",
      "source": [
        "# calculando fatorial com recursividade.\n",
        "\n",
        "# calculo feito:\n",
        "# 5 * fatorial(4)\n",
        "# 5 * 4 * fatorial(3)\n",
        "# 5 * 4 * 3 * fatorial(2)\n",
        "# 5 * 4 * 3 * 2 * fatorial(1)\n",
        "# 5 * 4 * 3 * 2 * 1 * fatorial(0) - a recursão para por ter chegado em zero\n",
        "# 5 * 4 * 3 * 2 * 1 == 120\n",
        "def fatorial_com_recursividade(valor):\n",
        "    # condição de parada.\n",
        "    if valor == 0:\n",
        "        return 1\n",
        "\n",
        "    # multiplica o valor do parâmetro pelo próprio valor menos 1.\n",
        "    # se o valor for zero, entra na condição de parada que retorna 1.\n",
        "    return valor * fatorial_com_recursividade(valor - 1)\n",
        "\n",
        "print(fatorial_com_recursividade(5))"
      ],
      "metadata": {
        "colab": {
          "base_uri": "https://localhost:8080/"
        },
        "id": "O9eS-qsey2BG",
        "outputId": "bd41ce27-253a-4b66-a6b8-aa9c920dfe4d"
      },
      "execution_count": null,
      "outputs": [
        {
          "output_type": "stream",
          "name": "stdout",
          "text": [
            "120\n"
          ]
        }
      ]
    },
    {
      "cell_type": "code",
      "source": [
        "# potenciação sem recursividade\n",
        "\n",
        "def potencia(base, expoente):\n",
        "    return base**expoente\n",
        "\n",
        "print(potencia(2, 3))"
      ],
      "metadata": {
        "colab": {
          "base_uri": "https://localhost:8080/"
        },
        "id": "rXH1ySm22Nq_",
        "outputId": "e11cd54a-11e0-4379-c391-710cc05ecfeb"
      },
      "execution_count": null,
      "outputs": [
        {
          "output_type": "stream",
          "name": "stdout",
          "text": [
            "8\n"
          ]
        }
      ]
    },
    {
      "cell_type": "code",
      "source": [
        "# potenciação com recursividade\n",
        "\n",
        "# calculo feito:\n",
        "# 2 * potencia(2, 3 - 1) - 4\n",
        "# 2 * potencia(2, 2 - 1) - 3\n",
        "# 2 * potencia(2, 1 - 1) - 2\n",
        "# 2 * potencia(2, 0 - 1) - 1 - o valor chegou em zero e o retorno é um\n",
        "# resultado final: 2 * 1 == 2; 2 * 2 == 4; 2 * 3 == 6; 2 * 4 == 8.\n",
        "def potencia_recursiva(base, expoente):\n",
        "    # condição de parada\n",
        "    if expoente == 0:\n",
        "        return 1\n",
        "\n",
        "    return base * potencia_recursiva(base, expoente - 1)\n",
        "\n",
        "print(potencia_recursiva(2, 3))"
      ],
      "metadata": {
        "colab": {
          "base_uri": "https://localhost:8080/"
        },
        "id": "kLEZGbbx10ER",
        "outputId": "ac70fc10-87bd-4565-9eb2-85987050c889"
      },
      "execution_count": null,
      "outputs": [
        {
          "output_type": "stream",
          "name": "stdout",
          "text": [
            "8\n"
          ]
        }
      ]
    },
    {
      "cell_type": "code",
      "source": [
        "# inverter string sem recursividade\n",
        "\n",
        "def inverter_string(valor):\n",
        "    return valor[::-1]\n",
        "\n",
        "print(inverter_string('Hello World!'))"
      ],
      "metadata": {
        "colab": {
          "base_uri": "https://localhost:8080/"
        },
        "id": "2Yjd_d7S79Lp",
        "outputId": "46cc9d51-3e1b-441f-d0ab-c3f13a1d500b"
      },
      "execution_count": null,
      "outputs": [
        {
          "output_type": "stream",
          "name": "stdout",
          "text": [
            "!dlroW olleH\n"
          ]
        }
      ]
    },
    {
      "cell_type": "code",
      "source": [
        "# inverter string com recursividade\n",
        "\n",
        "# exemplo: \"hello\"\n",
        "# empilhamento:\n",
        "# valor[-1] == o + função() - mostra o e deixa l\n",
        "# valor[-1] == l + função() - mostra l e deixa l\n",
        "# valor[-1] == l + função() - mostra l e deixa e\n",
        "# valor[-1] == e + função() - mostra e e deixa h\n",
        "# valor[-1] == h + função() - mostra h e deixa '' - a recursão para quando a string estiver vazia.\n",
        "# resultado final: o + l + l + e + h == olleh\n",
        "\n",
        "def string_inverter(valor):\n",
        "    # condição de parada\n",
        "    if valor == '':\n",
        "        return ''\n",
        "\n",
        "    # a última letra da string é retornada (valor[-1]).\n",
        "    # depois essa mesma letra é cortada fora da string (valor[:-1]).\n",
        "    # a string agora tem menos uma letra.\n",
        "    # o processo se repete até a string ficar vazia.\n",
        "    return valor[-1] + string_inverter(valor[:-1])\n",
        "\n",
        "print(string_inverter('Hello World!'))"
      ],
      "metadata": {
        "colab": {
          "base_uri": "https://localhost:8080/"
        },
        "id": "kOEhMm6j8Mwm",
        "outputId": "cefc5756-cfb0-4572-ac16-aa3d4fb52bfd"
      },
      "execution_count": null,
      "outputs": [
        {
          "output_type": "stream",
          "name": "stdout",
          "text": [
            "!dlroW olleH\n"
          ]
        }
      ]
    },
    {
      "cell_type": "code",
      "source": [
        "# falta concluir os exercícios do classroom referentes a essa aula.\n",
        "# fibonacci e soma dos digitos."
      ],
      "metadata": {
        "id": "OTc7PtHFPEs5"
      },
      "execution_count": null,
      "outputs": []
    },
    {
      "cell_type": "markdown",
      "source": [
        "## Palavras-chave ou Perguntas\n",
        "- como o fatorial realmente trabalha dentro do runtime da linguagem?\n",
        "- como funciona o empilhamento de chamadas?"
      ],
      "metadata": {
        "id": "0YKyr3oo6QGs"
      }
    },
    {
      "cell_type": "markdown",
      "source": [
        "## Resumo\n"
      ],
      "metadata": {
        "id": "6eo-vPTi6flb"
      }
    }
  ]
}